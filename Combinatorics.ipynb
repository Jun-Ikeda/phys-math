{
  "nbformat": 4,
  "nbformat_minor": 0,
  "metadata": {
    "colab": {
      "provenance": [],
      "authorship_tag": "ABX9TyORRp+FNIWisgFQJGQ3uoJR",
      "include_colab_link": true
    },
    "kernelspec": {
      "name": "python3",
      "display_name": "Python 3"
    },
    "language_info": {
      "name": "python"
    }
  },
  "cells": [
    {
      "cell_type": "markdown",
      "metadata": {
        "id": "view-in-github",
        "colab_type": "text"
      },
      "source": [
        "<a href=\"https://colab.research.google.com/github/Jun-Ikeda/phys-math/blob/main/Combinatorics.ipynb\" target=\"_parent\"><img src=\"https://colab.research.google.com/assets/colab-badge.svg\" alt=\"Open In Colab\"/></a>"
      ]
    },
    {
      "cell_type": "markdown",
      "source": [
        "Before summer"
      ],
      "metadata": {
        "id": "9cUgdan8C4pU"
      }
    },
    {
      "cell_type": "code",
      "source": [
        "#@title\n",
        "# A = make_set(7, 1, 10)\n",
        "# print(A)\n",
        "# print(sumset(A, A))\n",
        "# plot_sumset(A, A, 0, 20)\n",
        "# print(delta(A))\n",
        "# ALL_SETS_MEMO={}\n",
        "all_sets(5, 1, 5)\n",
        "# print()\n",
        "# ALL_SETS_MEMO"
      ],
      "metadata": {
        "colab": {
          "base_uri": "https://localhost:8080/"
        },
        "id": "L-MeyzfsDjXy",
        "outputId": "59372531-1aed-4e2f-bcb5-40807778d0e0",
        "cellView": "form"
      },
      "execution_count": null,
      "outputs": [
        {
          "output_type": "execute_result",
          "data": {
            "text/plain": [
              "[{1, 2, 3, 4, 5}]"
            ]
          },
          "metadata": {},
          "execution_count": 5
        }
      ]
    },
    {
      "cell_type": "code",
      "execution_count": null,
      "metadata": {
        "id": "GyMIjQnW7q77",
        "cellView": "form"
      },
      "outputs": [],
      "source": [
        "#@title\n",
        "import random\n",
        "import matplotlib.pyplot as plt\n",
        "import numpy as np\n",
        "\n",
        "# make a set of a given size of random integers in a given range (min, max, inclusive)\n",
        "def make_set(size, min, max):\n",
        "  if (max-min+1 < size):\n",
        "    raise ValueError(\"size is too big\")\n",
        "  output = set()\n",
        "  while (len(output) < size):\n",
        "    output.add(random.randint(min, max))\n",
        "  return output\n",
        "\n",
        "# make a union of a given set of sets\n",
        "def union_of_sets(sets):\n",
        "    return set().union(*sets)\n",
        "\n",
        "# make an intersection of a given set of sets\n",
        "def intersection_of_sets(sets):\n",
        "    return set.intersection(*sets)\n",
        "\n",
        "# make a sumset of given two sets\n",
        "def sumset(set1, set2):\n",
        "  output = set()\n",
        "  for i in set1:\n",
        "    for j in set2:\n",
        "      output.add(i+j)\n",
        "  return output\n",
        "\n",
        "def is_convex(set):\n",
        "  if len(set) < 3:\n",
        "    return True\n",
        "  # check if a_{i} - a_{i-1} is increasing for all 2 <= i <=n\n",
        "  for i in range(2, len(set)):\n",
        "    if set[i] - set[i-1] < set[i-1] - set[i-2]:\n",
        "      return False\n",
        "  return True\n",
        "\n",
        "def plot_sumset(set1, set2, min, max):\n",
        "  plt.figure(figsize=[10,10])\n",
        "  plt.axis([min, max, min, max])\n",
        "  sum = sumset(set1, set2)\n",
        "  # for all i in sum, draw a line from (i, 0) to (0, i)\n",
        "  for i in sum:\n",
        "    plt.plot([i, 0], [0, i], 'r-', lw=1)\n",
        "  for i in set1:\n",
        "    for j in set2:\n",
        "      # plot (i, j) with a small blue dot\n",
        "      plt.scatter(i, j, c='k', s=3)\n",
        "        # plt.plot(i, j, 'bo')\n",
        "  plt.xticks(list(set1) + list(sum))\n",
        "  plt.yticks(list(set2))\n",
        "  plt.show()\n",
        "\n",
        "def indicator(set, x):\n",
        "  if x in set:\n",
        "    return 1\n",
        "  else:\n",
        "    return 0\n",
        "\n",
        "def convolution_indicator(set1, set2, x):\n",
        "  output = 0\n",
        "  for s in range(x+1):\n",
        "    output += indicator(set1, s)*indicator(set2, x-s)\n",
        "  return output\n",
        "\n",
        "def energy(set1, set2):\n",
        "  return k_energy(set1, set2, 2)\n",
        "\n",
        "def k_energy(set1, set2, k):\n",
        "  output = 0\n",
        "  for s in range(max(set1)+max(set2)+1):\n",
        "    output += convolution_indicator(set1, set2, s)**k\n",
        "  return output\n",
        "\n",
        "def delta(set):\n",
        "  return len(set) ** 2 / (2 * len(sumset(set, set)))\n",
        "\n",
        "# given a list of integers and a number, return a list of all possible combinations of that size, using a memo\n",
        "ALL_SETS_MEMO = {}\n",
        "def all_sets(size, min, max):\n",
        "  if (size, min, max) in ALL_SETS_MEMO:\n",
        "    return ALL_SETS_MEMO[(size, min, max)]\n",
        "  output = []\n",
        "  if size == 0:\n",
        "    output.append(set())\n",
        "  else:\n",
        "    for i in range(min, max+1):\n",
        "      for j in all_sets(size-1, i+1, max):\n",
        "        output.append(j.union({i}))\n",
        "  ALL_SETS_MEMO[(size, min, max)] = output\n",
        "  return output\n",
        "\n",
        "# def all_sets(size, min, max):\n",
        "#   if (size == 1):\n",
        "#     return [{i} for i in range(min, max+1)]\n",
        "#   else:\n",
        "#     output = []\n",
        "#     for i in range(min, max+1):\n",
        "#       for j in all_sets(size-1, i+1, max):\n",
        "#         output.append({i}.union(j))\n",
        "#     return output"
      ]
    },
    {
      "cell_type": "markdown",
      "source": [
        "7/10"
      ],
      "metadata": {
        "id": "Se13TL4MDDSZ"
      }
    },
    {
      "cell_type": "code",
      "source": [
        "import sympy as sp\n",
        "\n",
        "a, tau, S1, Delta = sp.symbol"
      ],
      "metadata": {
        "id": "1FWdfQybDC1Q"
      },
      "execution_count": null,
      "outputs": []
    }
  ]
}